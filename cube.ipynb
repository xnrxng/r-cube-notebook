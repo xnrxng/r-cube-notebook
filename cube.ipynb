{
 "cells": [
  {
   "cell_type": "markdown",
   "id": "e5dcd899",
   "metadata": {},
   "source": [
    "## Calculate a cube of a number\n",
    "\n",
    "Function named `cube` that calculates a cube of a number:"
   ]
  },
  {
   "cell_type": "code",
   "execution_count": 1,
   "id": "420a18c6",
   "metadata": {},
   "outputs": [],
   "source": [
    "cube <- function(x) {\n",
    " x * x * x\n",
    "}"
   ]
  },
  {
   "cell_type": "code",
   "execution_count": 2,
   "id": "6c1c1b0e",
   "metadata": {},
   "outputs": [
    {
     "data": {
      "text/html": [
       "8"
      ],
      "text/latex": [
       "8"
      ],
      "text/markdown": [
       "8"
      ],
      "text/plain": [
       "[1] 8"
      ]
     },
     "metadata": {},
     "output_type": "display_data"
    }
   ],
   "source": [
    "cube(2)"
   ]
  }
 ],
 "metadata": {
  "kernelspec": {
   "display_name": "R",
   "language": "R",
   "name": "ir"
  },
  "language_info": {
   "codemirror_mode": "r",
   "file_extension": ".r",
   "mimetype": "text/x-r-source",
   "name": "R",
   "pygments_lexer": "r",
   "version": "4.3.2"
  }
 },
 "nbformat": 4,
 "nbformat_minor": 5
}
